{
 "cells": [
  {
   "cell_type": "code",
   "execution_count": 4,
   "id": "b84e11aa-6f68-4987-8516-fc2eb4564a7e",
   "metadata": {},
   "outputs": [],
   "source": [
    "import pandas as pd\n",
    "\n",
    "df = pd.read_csv('Online Retail.csv', encoding='ISO-8859-1')\n",
    "\n",
    "# Drop rows with missing CustomerID or Description\n",
    "df.dropna(subset=['CustomerID', 'Description'], inplace=True)\n",
    "\n",
    "# Remove negative or zero quantities (for now)\n",
    "df = df[df['Quantity'] > 0]\n",
    "\n",
    "# Remove transactions with zero or negative price\n",
    "df = df[df['UnitPrice'] > 0]\n",
    "\n",
    "# Create a new column for Total Sales\n",
    "df['TotalPrice'] = df['Quantity'] * df['UnitPrice']\n"
   ]
  },
  {
   "cell_type": "code",
   "execution_count": 5,
   "id": "9f0a5899-2cb2-4d21-88bc-9c6406b4d45a",
   "metadata": {},
   "outputs": [
    {
     "name": "stdout",
     "output_type": "stream",
     "text": [
      "Description\n",
      "PAPER CRAFT , LITTLE BIRDIE           168469.60\n",
      "REGENCY CAKESTAND 3 TIER              142592.95\n",
      "WHITE HANGING HEART T-LIGHT HOLDER    100448.15\n",
      "JUMBO BAG RED RETROSPOT                85220.78\n",
      "MEDIUM CERAMIC TOP STORAGE JAR         81416.73\n",
      "POSTAGE                                77803.96\n",
      "PARTY BUNTING                          68844.33\n",
      "ASSORTED COLOUR BIRD ORNAMENT          56580.34\n",
      "Manual                                 53779.93\n",
      "RABBIT NIGHT LIGHT                     51346.20\n",
      "Name: TotalPrice, dtype: float64\n"
     ]
    }
   ],
   "source": [
    "top_products = df.groupby('Description')['TotalPrice'].sum().sort_values(ascending=False).head(10)\n",
    "print(top_products)\n"
   ]
  },
  {
   "cell_type": "code",
   "execution_count": 6,
   "id": "941d8793-c1be-4d28-8227-0601a85fd6bd",
   "metadata": {},
   "outputs": [
    {
     "name": "stderr",
     "output_type": "stream",
     "text": [
      "/var/folders/r0/09krwlks0517n3028wxd64p40000gn/T/ipykernel_58503/1812112018.py:1: UserWarning: Could not infer format, so each element will be parsed individually, falling back to `dateutil`. To ensure parsing is consistent and as-expected, please specify a format.\n",
      "  df['InvoiceDate'] = pd.to_datetime(df['InvoiceDate'])\n"
     ]
    },
    {
     "data": {
      "text/plain": [
       "<Axes: title={'center': 'Monthly Sales Trend'}, xlabel='Month'>"
      ]
     },
     "execution_count": 6,
     "metadata": {},
     "output_type": "execute_result"
    },
    {
     "data": {
      "image/png": "[encoded data removed]",
      "text/plain": [
       "<Figure size 640x480 with 1 Axes>"
      ]
     },
     "metadata": {},
     "output_type": "display_data"
    }
   ],
   "source": [
    "df['InvoiceDate'] = pd.to_datetime(df['InvoiceDate'])\n",
    "df['Month'] = df['InvoiceDate'].dt.to_period('M')\n",
    "\n",
    "monthly_sales = df.groupby('Month')['TotalPrice'].sum()\n",
    "monthly_sales.plot(kind='line', title=\"Monthly Sales Trend\")\n"
   ]
  },
  {
   "cell_type": "code",
   "execution_count": 7,
   "id": "7f73dbb9-afc8-4c25-8929-ab9ce0ca95dc",
   "metadata": {},
   "outputs": [
    {
     "name": "stdout",
     "output_type": "stream",
     "text": [
      "Country\n",
      "United Kingdom    7308391.554\n",
      "Netherlands        285446.340\n",
      "EIRE               265545.900\n",
      "Germany            228867.140\n",
      "France             209024.050\n",
      "Australia          138521.310\n",
      "Spain               61577.110\n",
      "Switzerland         56443.950\n",
      "Belgium             41196.340\n",
      "Sweden              38378.330\n",
      "Name: TotalPrice, dtype: float64\n"
     ]
    }
   ],
   "source": [
    "country_sales = df.groupby('Country')['TotalPrice'].sum().sort_values(ascending=False)\n",
    "print(country_sales.head(10))\n"
   ]
  },
  {
   "cell_type": "code",
   "execution_count": 8,
   "id": "60d4b78d-fafb-43b5-97a3-d521531a1d12",
   "metadata": {},
   "outputs": [
    {
     "name": "stdout",
     "output_type": "stream",
     "text": [
      "CustomerID\n",
      "14646.0    280206.02\n",
      "18102.0    259657.30\n",
      "17450.0    194550.79\n",
      "16446.0    168472.50\n",
      "14911.0    143825.06\n",
      "12415.0    124914.53\n",
      "14156.0    117379.63\n",
      "17511.0     91062.38\n",
      "16029.0     81024.84\n",
      "12346.0     77183.60\n",
      "Name: TotalPrice, dtype: float64\n"
     ]
    }
   ],
   "source": [
    "customer_value = df.groupby('CustomerID')['TotalPrice'].sum().sort_values(ascending=False)\n",
    "print(customer_value.head(10))\n"
   ]
  },
  {
   "cell_type": "code",
   "execution_count": 9,
   "id": "8887b4e8-d54d-42aa-997a-5627067f134f",
   "metadata": {},
   "outputs": [],
   "source": [
    "df['EstimatedProfit'] = df['TotalPrice'] * 0.30"
   ]
  },
  {
   "cell_type": "code",
   "execution_count": 10,
   "id": "550f1222-fc52-4d7e-a7cc-f34559eaf55b",
   "metadata": {},
   "outputs": [
    {
     "name": "stdout",
     "output_type": "stream",
     "text": [
      "Description\n",
      "PAPER CRAFT , LITTLE BIRDIE           50540.880\n",
      "REGENCY CAKESTAND 3 TIER              42777.885\n",
      "WHITE HANGING HEART T-LIGHT HOLDER    30134.445\n",
      "JUMBO BAG RED RETROSPOT               25566.234\n",
      "MEDIUM CERAMIC TOP STORAGE JAR        24425.019\n",
      "POSTAGE                               23341.188\n",
      "PARTY BUNTING                         20653.299\n",
      "ASSORTED COLOUR BIRD ORNAMENT         16974.102\n",
      "Manual                                16133.979\n",
      "RABBIT NIGHT LIGHT                    15403.860\n",
      "Name: EstimatedProfit, dtype: float64\n"
     ]
    }
   ],
   "source": [
    "profit_by_product = df.groupby('Description')['EstimatedProfit'].sum().sort_values(ascending=False)\n",
    "print(profit_by_product.head(10))\n"
   ]
  },
  {
   "cell_type": "code",
   "execution_count": 11,
   "id": "2c8cc557-cd30-4ded-93ec-d17e5e46ac0d",
   "metadata": {},
   "outputs": [],
   "source": [
    "df.to_csv('cleaned_retail_data.csv', index=False)"
   ]
  },
  {
   "cell_type": "code",
   "execution_count": null,
   "id": "fcea689c-50d5-4efc-bf0a-67b33e7d6e13",
   "metadata": {},
   "outputs": [],
   "source": []
  }
 ],
 "metadata": {
  "kernelspec": {
   "display_name": "Python 3 (ipykernel)",
   "language": "python",
   "name": "python3"
  },
  "language_info": {
   "codemirror_mode": {
    "name": "ipython",
    "version": 3
   },
   "file_extension": ".py",
   "mimetype": "text/x-python",
   "name": "python",
   "nbconvert_exporter": "python",
   "pygments_lexer": "ipython3",
   "version": "3.13.1"
  }
 },
 "nbformat": 4,
 "nbformat_minor": 5
}
